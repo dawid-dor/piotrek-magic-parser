{
 "cells": [
  {
   "cell_type": "markdown",
   "metadata": {},
   "source": [
    "# Piotrek Magiczny Parser v.0.2"
   ]
  },
  {
   "cell_type": "markdown",
   "metadata": {},
   "source": [
    "## Imports"
   ]
  },
  {
   "cell_type": "code",
   "execution_count": 694,
   "metadata": {},
   "outputs": [],
   "source": [
    "import glob, requests\n",
    "import pandas as pd\n",
    "import numpy as np\n",
    "import re\n",
    "from datetime import datetime"
   ]
  },
  {
   "cell_type": "markdown",
   "metadata": {},
   "source": [
    "## Constants"
   ]
  },
  {
   "cell_type": "code",
   "execution_count": 695,
   "metadata": {},
   "outputs": [],
   "source": [
    "INPUT_FOLDER_PATH: str = glob.glob('./input/*')[0]\n",
    "OUTPUT_FOLDER_PATH: str = f\"./output/Aktualna_Kolekcja_{str(datetime.now().strftime('%Y-%m-%d_%H:%M')).split('.')[0].replace(' ', '').replace(':', '').replace('-', '')}.csv\"\n",
    "CARD_EXCEPTIONS_FILE: str = './card_exceptions.xlsx'\n",
    "SET_EXCEPTIONS_FILE: str = './set_exceptions.xlsx'"
   ]
  },
  {
   "cell_type": "markdown",
   "metadata": {},
   "source": [
    "# Functions"
   ]
  },
  {
   "cell_type": "markdown",
   "metadata": {},
   "source": [
    "## Set's full name to abbreviation"
   ]
  },
  {
   "cell_type": "code",
   "execution_count": 696,
   "metadata": {},
   "outputs": [],
   "source": [
    "def create_set_dictionary() -> dict:\n",
    "    ''' Get set full names and abbreviations from Scryfall.com API. '''\n",
    "    request = requests.get('https://api.scryfall.com/sets/')\n",
    "    response: list[dict] = request.json()['data']\n",
    "\n",
    "    set_dict: dict = [\n",
    "        {'code': element['code'], 'name': element['name']} for element in response\n",
    "    ]\n",
    "    return set_dict"
   ]
  },
  {
   "cell_type": "markdown",
   "metadata": {},
   "source": [
    "## Set names"
   ]
  },
  {
   "cell_type": "code",
   "execution_count": 697,
   "metadata": {},
   "outputs": [],
   "source": [
    "def cleanse_set_name(set_name: str) -> str:\n",
    "    ''' Delete unnecessary word additions to set names from MTGCB import. '''\n",
    "    set_name_cleansed: str = set_name\n",
    "    to_mass_replace: list[str] = [' Variants', ' Decks', ' Edition']\n",
    "    mass_replace_exceptions: list[str] = ['Starter Commander Decks']\n",
    "    \n",
    "    # TODO\n",
    "    # Replace regex ('cause it's slower) with manual index search to replace only one occurance at the end of string\n",
    "    if set_name not in mass_replace_exceptions:\n",
    "        for element in to_mass_replace:\n",
    "            set_name_cleansed = re.sub(f'{element}$', '', set_name_cleansed)\n",
    "    \n",
    "    return set_name_cleansed"
   ]
  },
  {
   "cell_type": "code",
   "execution_count": 698,
   "metadata": {},
   "outputs": [],
   "source": [
    "def find_correct_set(set_name: set, set_dicts: list[set]) -> str:\n",
    "    ''' Check if set from MTGCB matches set in Scryfall database. '''\n",
    "    correct_set: str = set_name\n",
    "    \n",
    "    try:\n",
    "        correct_set = [ele for ele in set_dicts if ele['name'] == cleanse_set_name(set_name)][0]['code']\n",
    "    except IndexError:\n",
    "        correct_set = 'NOT FOUND'\n",
    "        print(f\"Couldn't find set named \\\"{set_name}\\\", cleansed set name is: \\\"{cleanse_set_name(set_name)}\\\"\")\n",
    "\n",
    "    return correct_set"
   ]
  },
  {
   "cell_type": "markdown",
   "metadata": {},
   "source": [
    "## Card names"
   ]
  },
  {
   "cell_type": "code",
   "execution_count": 699,
   "metadata": {},
   "outputs": [],
   "source": [
    "def cleanse_card_name(card_name: str) -> str:\n",
    "    ''' Remove additional info in brackets from MTGCB. '''\n",
    "    if \"(\" not in card_name:\n",
    "        return card_name\n",
    "    \n",
    "    result: str = [ele for ele in card_name.split(\" (\")][0]\n",
    "\n",
    "    return result"
   ]
  },
  {
   "cell_type": "code",
   "execution_count": 700,
   "metadata": {},
   "outputs": [],
   "source": [
    "def decide_if_land(card_name: str) -> bool:\n",
    "    ''' Check if it's a basic land, to set collector number in that card. '''\n",
    "    lands: list = ['plains', 'island', 'swamp', 'mountain', 'forest']\n",
    "    result: bool = True if card_name.lower() in lands else False\n",
    "        \n",
    "    return result"
   ]
  },
  {
   "cell_type": "markdown",
   "metadata": {},
   "source": [
    "## Set exceptions"
   ]
  },
  {
   "cell_type": "code",
   "execution_count": 701,
   "metadata": {},
   "outputs": [],
   "source": [
    "def handle_data_set_exceptions(row, index, set_exceptions, output_df) -> None:\n",
    "    ''' Change set info according to set_exceptions.xlsx file. '''\n",
    "    data: list[dict] = set_exceptions.to_dict('records')\n",
    "\n",
    "    for record in data:\n",
    "        if row['Set'] != record['Old Name']:\n",
    "            continue\n",
    "        \n",
    "        output_df.at[index, 'Set'] = record['New Name']"
   ]
  },
  {
   "cell_type": "markdown",
   "metadata": {},
   "source": [
    "## Card exceptions"
   ]
  },
  {
   "cell_type": "code",
   "execution_count": 702,
   "metadata": {},
   "outputs": [],
   "source": [
    "def handle_data_card_exceptions(row, index, card_exceptions, output_df) -> None:\n",
    "    ''' Change card info according to card_exceptions.xlsx file. '''\n",
    "    data: list[dict] = card_exceptions.to_dict('records')\n",
    "\n",
    "    for record in data:\n",
    "        if record['Old Name']:\n",
    "            if row['Name'] != record['Old Name']:\n",
    "                continue\n",
    "        if record['Old CN']:\n",
    "            if str(row['Number']) != str(record['Old CN']):\n",
    "                continue\n",
    "        if record['Old Set']:\n",
    "            if row['Set'] != record['Old Set']:\n",
    "                continue\n",
    "        \n",
    "        if record['New Name']:\n",
    "            output_df.at[index, 'Name'] = record['New Name']\n",
    "        \n",
    "        if record['New CN']:\n",
    "            output_df.at[index, 'Collector Number'] = str(record['New CN'])\n",
    "        \n",
    "        if record['New Set']:\n",
    "            output_df.at[index, 'Set'] = record['New Set']\n",
    "        \n",
    "        if record['To Delete']:\n",
    "            output_df.drop(index, inplace=True)"
   ]
  },
  {
   "cell_type": "markdown",
   "metadata": {},
   "source": [
    "# Main"
   ]
  },
  {
   "cell_type": "markdown",
   "metadata": {},
   "source": [
    "### Inits"
   ]
  },
  {
   "cell_type": "code",
   "execution_count": 703,
   "metadata": {},
   "outputs": [],
   "source": [
    "df: pd.DataFrame = pd.read_csv(INPUT_FOLDER_PATH)\n",
    "sets: dict = create_set_dictionary()\n",
    "card_exceptions_df: pd.DataFrame = pd.read_excel(CARD_EXCEPTIONS_FILE).replace(np.nan, None)\n",
    "set_exceptions_df: pd.DataFrame = pd.read_excel(SET_EXCEPTIONS_FILE).replace(np.nan, None)"
   ]
  },
  {
   "cell_type": "markdown",
   "metadata": {},
   "source": [
    "### Change QTY to Count"
   ]
  },
  {
   "cell_type": "code",
   "execution_count": 704,
   "metadata": {},
   "outputs": [],
   "source": [
    "df['Count'] = df['Qty']\n",
    "df = df.drop('Qty', axis=1)"
   ]
  },
  {
   "cell_type": "markdown",
   "metadata": {},
   "source": [
    "### Add Edition and Collector Number Columns"
   ]
  },
  {
   "cell_type": "code",
   "execution_count": 705,
   "metadata": {},
   "outputs": [],
   "source": [
    "df.insert(len(df.columns), 'Edition', \"\")\n",
    "df.insert(len(df.columns), 'Collector Number', \"\")"
   ]
  },
  {
   "cell_type": "markdown",
   "metadata": {},
   "source": [
    "### Parse Input DF based on Excel Exceptions Sheets"
   ]
  },
  {
   "cell_type": "code",
   "execution_count": 706,
   "metadata": {},
   "outputs": [],
   "source": [
    "for i, row in df.iterrows():\n",
    "    handle_data_card_exceptions(row, i, card_exceptions_df, df)\n",
    "    handle_data_set_exceptions(row, i, set_exceptions_df, df)"
   ]
  },
  {
   "cell_type": "markdown",
   "metadata": {},
   "source": [
    "### Correct columns relevant to Moxfield's format"
   ]
  },
  {
   "cell_type": "code",
   "execution_count": 707,
   "metadata": {},
   "outputs": [
    {
     "name": "stdout",
     "output_type": "stream",
     "text": [
      "Couldn't find set named \"Mystery Booster Playtest Cards\", cleansed set name is: \"Mystery Booster Playtest Cards\"\n",
      "Couldn't find set named \"Mystery Booster Playtest Cards\", cleansed set name is: \"Mystery Booster Playtest Cards\"\n",
      "Couldn't find set named \"Mystery Booster Playtest Cards\", cleansed set name is: \"Mystery Booster Playtest Cards\"\n",
      "Couldn't find set named \"Mystery Booster Playtest Cards\", cleansed set name is: \"Mystery Booster Playtest Cards\"\n",
      "Couldn't find set named \"Mystery Booster Playtest Cards\", cleansed set name is: \"Mystery Booster Playtest Cards\"\n",
      "Couldn't find set named \"Mystery Booster Playtest Cards\", cleansed set name is: \"Mystery Booster Playtest Cards\"\n",
      "Couldn't find set named \"Mystery Booster Playtest Cards\", cleansed set name is: \"Mystery Booster Playtest Cards\"\n",
      "Couldn't find set named \"Mystery Booster Playtest Cards\", cleansed set name is: \"Mystery Booster Playtest Cards\"\n",
      "Couldn't find set named \"Mystery Booster Playtest Cards\", cleansed set name is: \"Mystery Booster Playtest Cards\"\n",
      "Couldn't find set named \"Release Event Promos\", cleansed set name is: \"Release Event Promos\"\n",
      "Couldn't find set named \"Promo Pack: The Brothers' War\", cleansed set name is: \"Promo Pack: The Brothers' War\"\n"
     ]
    }
   ],
   "source": [
    "for i, row in df.iterrows():\n",
    "    # FIXME\n",
    "    '''\n",
    "    if row['Set'] == 'Mystery Booster Playtest Cards':\n",
    "        print(row)\n",
    "    '''\n",
    "    df.at[i, 'Name'] = cleanse_card_name(row['Name']).replace(\"Æ\",\"Ae\")\n",
    "    df.at[i, 'Edition'] = find_correct_set(row['Set'], sets)\n",
    "    df.at[i, 'Foil'] = \"foil\" if row['Foil'] else ''\n",
    "    \n",
    "    if not row['Collector Number']:\n",
    "        df.at[i, 'Collector Number'] = row['Number'] if decide_if_land(cleanse_card_name(row['Name'])) else \"\""
   ]
  },
  {
   "cell_type": "markdown",
   "metadata": {},
   "source": [
    "### Drop unnecessary columns"
   ]
  },
  {
   "cell_type": "code",
   "execution_count": 708,
   "metadata": {},
   "outputs": [],
   "source": [
    "df = df.drop('Set', axis=1)\n",
    "df = df.drop('Low Price', axis=1)\n",
    "df = df.drop('Rarity', axis=1)\n",
    "df = df.drop('Number', axis=1)"
   ]
  },
  {
   "cell_type": "markdown",
   "metadata": {},
   "source": [
    "### Finalize column order"
   ]
  },
  {
   "cell_type": "code",
   "execution_count": 709,
   "metadata": {},
   "outputs": [],
   "source": [
    "order = ['Count', 'Name', 'Edition', 'Foil', 'Collector Number']\n",
    "df = df[order]"
   ]
  },
  {
   "cell_type": "markdown",
   "metadata": {},
   "source": [
    "### Save DF to CSV (output folder)"
   ]
  },
  {
   "cell_type": "code",
   "execution_count": 710,
   "metadata": {},
   "outputs": [],
   "source": [
    "df.to_csv(OUTPUT_FOLDER_PATH, index=False)"
   ]
  }
 ],
 "metadata": {
  "kernelspec": {
   "display_name": "Python 3",
   "language": "python",
   "name": "python3"
  },
  "language_info": {
   "codemirror_mode": {
    "name": "ipython",
    "version": 3
   },
   "file_extension": ".py",
   "mimetype": "text/x-python",
   "name": "python",
   "nbconvert_exporter": "python",
   "pygments_lexer": "ipython3",
   "version": "3.11.0"
  },
  "orig_nbformat": 4
 },
 "nbformat": 4,
 "nbformat_minor": 2
}

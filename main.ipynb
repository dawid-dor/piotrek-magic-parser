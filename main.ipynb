{
 "cells": [
  {
   "cell_type": "markdown",
   "metadata": {},
   "source": [
    "# Piotrek Magiczny Parser v.0.1"
   ]
  },
  {
   "cell_type": "markdown",
   "metadata": {},
   "source": [
    "## Imports"
   ]
  },
  {
   "cell_type": "code",
   "execution_count": 1459,
   "metadata": {},
   "outputs": [],
   "source": [
    "import glob, requests\n",
    "import pandas as pd\n",
    "import numpy as np\n",
    "from datetime import datetime"
   ]
  },
  {
   "cell_type": "markdown",
   "metadata": {},
   "source": [
    "# Functions"
   ]
  },
  {
   "cell_type": "code",
   "execution_count": 1460,
   "metadata": {},
   "outputs": [],
   "source": [
    "def create_set_dictionary() -> dict:\n",
    "    request = requests.get(\"https://api.scryfall.com/sets/\")\n",
    "    response: list[dict] = request.json()[\"data\"]\n",
    "\n",
    "    set_dict: dict = [\n",
    "        {\"code\": element[\"code\"], \"name\": element[\"name\"]} for element in response\n",
    "    ]\n",
    "    return set_dict"
   ]
  },
  {
   "cell_type": "code",
   "execution_count": 1461,
   "metadata": {},
   "outputs": [],
   "source": [
    "def cleanse_set_name(set_name: str) -> str:\n",
    "    set_name_cleansed: str = set_name\n",
    "\n",
    "    if \"Battle for Baldur's Gate\" in set_name:\n",
    "        set_name_cleansed = \"Commander Legends: Battle for Baldur's Gate\"\n",
    "    if \"Commander 2013\" in set_name:\n",
    "        set_name_cleansed = \"Commander 2013 Edition\"\n",
    "    if \"Forgotten Realms Variants\" in set_name:\n",
    "        set_name_cleansed = \"Adventures in the Forgotten Realms\"\n",
    "    if \"Ikoria Variants\" in set_name:\n",
    "        set_name_cleansed = \"Ikoria: Lair of Behemoths\"\n",
    "    if \"Mystery Booster Playtest Cards 2021\" in set_name:\n",
    "        set_name_cleansed = \"Mystery Booster Playtest Cards\"\n",
    "    if \"Mystical Archive\" in set_name:\n",
    "        set_name_cleansed = \"Strixhaven Mystical Archive\"\n",
    "    if \"Promo Pack: Forgotten Realms\" in set_name:\n",
    "        set_name_cleansed = \"Adventures in the Forgotten Realms\"\n",
    "    if \"Promo Pack: Ikoria\" in set_name:\n",
    "        set_name_cleansed = \"Ikoria: Lair of Behemoths\"\n",
    "    if \"Promo Pack: Innistrad Midnight Hunt\" in set_name:\n",
    "        set_name_cleansed = \"Innistrad: Midnight Hunt\"\n",
    "    if \"Promo Pack: Theros Beyond Death\" in set_name:\n",
    "        set_name_cleansed = \"Theros Beyond Death\"\n",
    "    if \"Promo Pack: Throne of Eldraine\" in set_name:\n",
    "        set_name_cleansed = \"Throne of Eldraine\"\n",
    "    if \"Promo Pack: Zendikar Rising\" in set_name:\n",
    "        set_name_cleansed = \"Zendikar Rising\"\n",
    "    if \"Ravnica Allegiance Guild Kits\" in set_name:\n",
    "        set_name_cleansed = \"RNA Guild Kit\"\n",
    "    if \"Store Championship Promos\" in set_name:\n",
    "        set_name_cleansed = \"Wizards Play Network 2021\"\n",
    "    if \"Strixhaven\" in set_name and not \"Mystical Archive\" in set_name:\n",
    "        set_name_cleansed = \"Strixhaven: School of Mages\"\n",
    "    if \"Time Spiral Remastered (Timeshifted)\" in set_name:\n",
    "        set_name_cleansed = \"Time Spiral Remastered\"\n",
    "    if \"Magic 2015 Core Set\" in set_name:\n",
    "        set_name_cleansed = \"Magic 2015\"\n",
    "    \n",
    "    return set_name_cleansed.replace(\" Variants\", \"\")"
   ]
  },
  {
   "cell_type": "code",
   "execution_count": 1462,
   "metadata": {},
   "outputs": [],
   "source": [
    "def find_correct_set(set_name: set, set_dicts: list[set]) -> str:\n",
    "    correct_set: str = set_name\n",
    "    try:\n",
    "        correct_set = [ele for ele in set_dicts if ele['name'].replace(\" Variants\", \"\") == cleanse_set_name(set_name)][0]['code']\n",
    "    except IndexError:\n",
    "        correct_set = 'NOT FOUND'\n",
    "\n",
    "    return correct_set"
   ]
  },
  {
   "cell_type": "code",
   "execution_count": 1463,
   "metadata": {},
   "outputs": [],
   "source": [
    "def cleanse_card_name(card_name: str) -> str:\n",
    "    if \"(\" not in card_name:\n",
    "        return card_name\n",
    "    \n",
    "    result: str = [ele for ele in card_name.split(\" (\")][0]\n",
    "\n",
    "    return result"
   ]
  },
  {
   "cell_type": "code",
   "execution_count": 1464,
   "metadata": {},
   "outputs": [],
   "source": [
    "def decide_if_land(card_name: str) -> bool:\n",
    "    lands: list = ['plains', 'island', 'swamp', 'mountain', 'forest']\n",
    "    result: bool = True if card_name.lower() in lands else False\n",
    "        \n",
    "    return result"
   ]
  },
  {
   "cell_type": "code",
   "execution_count": 1465,
   "metadata": {},
   "outputs": [],
   "source": [
    "def handle_data_exceptions(row, index, output_df) -> None:\n",
    "    data: list[dict] = exceptions_df.to_dict('records')\n",
    "\n",
    "    for record in data:\n",
    "        if record['Old Name']:\n",
    "            if row['Name'] != record['Old Name']:\n",
    "                continue\n",
    "        if record['Old CN']:\n",
    "            if str(row['Number']) != str(record['Old CN']):\n",
    "                continue\n",
    "        if record['Old Set']:\n",
    "            if row['Set'] != record['Old Set']:\n",
    "                continue\n",
    "        \n",
    "        if record['New Name']:\n",
    "            output_df.at[index, 'Name'] = record['New Name']\n",
    "        \n",
    "        if record['New CN']:\n",
    "            output_df.at[index, 'Collector Number'] = str(record['New CN'])\n",
    "        \n",
    "        if record['New Set']:\n",
    "            output_df.at[index, 'Set'] = record['New Set']\n",
    "        \n",
    "        if record['To Delete']:\n",
    "            output_df.drop(index, inplace=True)\n",
    "\n"
   ]
  },
  {
   "cell_type": "markdown",
   "metadata": {},
   "source": [
    "## Constants"
   ]
  },
  {
   "cell_type": "code",
   "execution_count": 1466,
   "metadata": {},
   "outputs": [],
   "source": [
    "INPUT_FOLDER_PATH: str = glob.glob(\"./input/*\")[0]\n",
    "OUTPUT_FOLDER_PATH: str = f'./output/Aktualna_Kolekcja_{str(datetime.now()).split(\".\")[0].replace(\" \", \"\").replace(\":\", \"\").replace(\"-\", \"\")}.csv'\n",
    "EXCEPTIONS_FILE: str = \"./exceptions.xlsx\""
   ]
  },
  {
   "cell_type": "markdown",
   "metadata": {},
   "source": [
    "## Inits"
   ]
  },
  {
   "cell_type": "code",
   "execution_count": 1467,
   "metadata": {},
   "outputs": [],
   "source": [
    "\n",
    "df: pd.DataFrame = pd.read_csv(INPUT_FOLDER_PATH)\n",
    "sets: dict = create_set_dictionary()\n",
    "exceptions_df: pd.DataFrame = pd.read_excel(EXCEPTIONS_FILE).replace(np.nan, None)"
   ]
  },
  {
   "cell_type": "markdown",
   "metadata": {},
   "source": [
    "## Main"
   ]
  },
  {
   "cell_type": "markdown",
   "metadata": {},
   "source": [
    "### Change QTY to Count"
   ]
  },
  {
   "cell_type": "code",
   "execution_count": 1471,
   "metadata": {},
   "outputs": [],
   "source": [
    "df['Count'] = df['Qty']\n",
    "df = df.drop('Qty', axis=1)"
   ]
  },
  {
   "cell_type": "markdown",
   "metadata": {},
   "source": [
    "### Add Edition and Collector Number Columns"
   ]
  },
  {
   "cell_type": "code",
   "execution_count": 1473,
   "metadata": {},
   "outputs": [],
   "source": [
    "df.insert(len(df.columns), 'Edition', \"\")\n",
    "df.insert(len(df.columns), 'Collector Number', \"\")"
   ]
  },
  {
   "cell_type": "markdown",
   "metadata": {},
   "source": [
    "### Parse Input DF based on Excel Exceptions Sheet"
   ]
  },
  {
   "cell_type": "code",
   "execution_count": null,
   "metadata": {},
   "outputs": [],
   "source": [
    "for i, row in df.iterrows():\n",
    "    handle_data_exceptions(row, i, df)"
   ]
  },
  {
   "cell_type": "markdown",
   "metadata": {},
   "source": [
    "### Correct important columns"
   ]
  },
  {
   "cell_type": "code",
   "execution_count": 1474,
   "metadata": {},
   "outputs": [],
   "source": [
    "for i, row in df.iterrows():\n",
    "    df.at[i, 'Name'] = cleanse_card_name(row['Name']).replace(\"Æ\",\"Ae\")\n",
    "    df.at[i, 'Edition'] = find_correct_set(row['Set'], sets)\n",
    "    df.at[i, 'Foil'] = \"foil\" if row['Foil'] else ''\n",
    "    \n",
    "    if not row['Collector Number']:\n",
    "        df.at[i, 'Collector Number'] = row['Number'] if decide_if_land(cleanse_card_name(row['Name'])) else \"\""
   ]
  },
  {
   "cell_type": "markdown",
   "metadata": {},
   "source": [
    "### Drop unnecessary columns"
   ]
  },
  {
   "cell_type": "code",
   "execution_count": 1475,
   "metadata": {},
   "outputs": [],
   "source": [
    "df = df.drop('Set', axis=1)\n",
    "df = df.drop('Low Price', axis=1)\n",
    "df = df.drop('Rarity', axis=1)\n",
    "df = df.drop('Number', axis=1)"
   ]
  },
  {
   "cell_type": "markdown",
   "metadata": {},
   "source": [
    "### Finalize column order"
   ]
  },
  {
   "cell_type": "code",
   "execution_count": 1476,
   "metadata": {},
   "outputs": [
    {
     "data": {
      "text/html": [
       "<div>\n",
       "<style scoped>\n",
       "    .dataframe tbody tr th:only-of-type {\n",
       "        vertical-align: middle;\n",
       "    }\n",
       "\n",
       "    .dataframe tbody tr th {\n",
       "        vertical-align: top;\n",
       "    }\n",
       "\n",
       "    .dataframe thead th {\n",
       "        text-align: right;\n",
       "    }\n",
       "</style>\n",
       "<table border=\"1\" class=\"dataframe\">\n",
       "  <thead>\n",
       "    <tr style=\"text-align: right;\">\n",
       "      <th></th>\n",
       "      <th>Count</th>\n",
       "      <th>Name</th>\n",
       "      <th>Edition</th>\n",
       "      <th>Foil</th>\n",
       "      <th>Collector Number</th>\n",
       "    </tr>\n",
       "  </thead>\n",
       "  <tbody>\n",
       "    <tr>\n",
       "      <th>0</th>\n",
       "      <td>1</td>\n",
       "      <td>Luminous Angel</td>\n",
       "      <td>mrd</td>\n",
       "      <td></td>\n",
       "      <td></td>\n",
       "    </tr>\n",
       "    <tr>\n",
       "      <th>1</th>\n",
       "      <td>1</td>\n",
       "      <td>Molten Rain</td>\n",
       "      <td>mrd</td>\n",
       "      <td></td>\n",
       "      <td></td>\n",
       "    </tr>\n",
       "    <tr>\n",
       "      <th>2</th>\n",
       "      <td>1</td>\n",
       "      <td>Honden of Night's Reach</td>\n",
       "      <td>chk</td>\n",
       "      <td></td>\n",
       "      <td></td>\n",
       "    </tr>\n",
       "    <tr>\n",
       "      <th>3</th>\n",
       "      <td>1</td>\n",
       "      <td>Nivix, Aerie of the Firemind</td>\n",
       "      <td>gpt</td>\n",
       "      <td></td>\n",
       "      <td></td>\n",
       "    </tr>\n",
       "    <tr>\n",
       "      <th>4</th>\n",
       "      <td>1</td>\n",
       "      <td>Kithkin Rabble</td>\n",
       "      <td>shm</td>\n",
       "      <td></td>\n",
       "      <td></td>\n",
       "    </tr>\n",
       "  </tbody>\n",
       "</table>\n",
       "</div>"
      ],
      "text/plain": [
       "   Count                          Name Edition Foil Collector Number\n",
       "0      1                Luminous Angel     mrd                      \n",
       "1      1                   Molten Rain     mrd                      \n",
       "2      1       Honden of Night's Reach     chk                      \n",
       "3      1  Nivix, Aerie of the Firemind     gpt                      \n",
       "4      1                Kithkin Rabble     shm                      "
      ]
     },
     "execution_count": 1476,
     "metadata": {},
     "output_type": "execute_result"
    }
   ],
   "source": [
    "order = ['Count', 'Name', 'Edition', 'Foil', 'Collector Number']\n",
    "df = df[order]"
   ]
  },
  {
   "cell_type": "markdown",
   "metadata": {},
   "source": [
    "### Save DF to CSV (output folder)"
   ]
  },
  {
   "cell_type": "code",
   "execution_count": 1478,
   "metadata": {},
   "outputs": [],
   "source": [
    "df.to_csv(OUTPUT_FOLDER_PATH, index=False)"
   ]
  }
 ],
 "metadata": {
  "kernelspec": {
   "display_name": "Python 3",
   "language": "python",
   "name": "python3"
  },
  "language_info": {
   "codemirror_mode": {
    "name": "ipython",
    "version": 3
   },
   "file_extension": ".py",
   "mimetype": "text/x-python",
   "name": "python",
   "nbconvert_exporter": "python",
   "pygments_lexer": "ipython3",
   "version": "3.11.0"
  },
  "orig_nbformat": 4
 },
 "nbformat": 4,
 "nbformat_minor": 2
}
